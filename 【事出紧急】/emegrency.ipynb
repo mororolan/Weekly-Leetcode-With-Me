{
 "cells": [
  {
   "cell_type": "markdown",
   "source": [
    "# DFS\n",
    "104. Maximum Depth of Binary Tree\n",
    "https://leetcode.com/problems/maximum-depth-of-binary-tree/"
   ],
   "metadata": {
    "collapsed": false,
    "pycharm": {
     "name": "#%% md\n"
    }
   }
  },
  {
   "cell_type": "code",
   "execution_count": null,
   "outputs": [],
   "source": [
    "# 自己写了竟然过了的，但比较慢\n",
    "class Solution:\n",
    "\n",
    "    def maxDepth(self, root: Optional[TreeNode]) -> int:\n",
    "        if root == None: return 0\n",
    "        def searchDepth(res,tmp,root) -> int:\n",
    "            if root.left:  res = searchDepth(res,tmp+1, root.left)\n",
    "            if root.right: res = searchDepth(res,tmp+1,root.right)\n",
    "            res = max(res,tmp)\n",
    "            return res\n",
    "        res = searchDepth(1,1,root)\n",
    "        return res"
   ],
   "metadata": {
    "collapsed": false,
    "pycharm": {
     "name": "#%%\n"
    }
   }
  },
  {
   "cell_type": "code",
   "execution_count": null,
   "outputs": [],
   "source": [
    "# 别人的，学习了下并进行改写，也比较好理解的\n",
    "class Solution:\n",
    "\n",
    "    def maxDepth(self, root: Optional[TreeNode]) -> int:\n",
    "        if root == None: return 0\n",
    "        depth_left = self.maxDepth(root.left)\n",
    "        depth_right = self.maxDepth(root.right)\n",
    "        return max(depth_left,depth_right) +1"
   ],
   "metadata": {
    "collapsed": false,
    "pycharm": {
     "name": "#%%\n"
    }
   }
  }
 ],
 "metadata": {
  "kernelspec": {
   "display_name": "Python 3",
   "language": "python",
   "name": "python3"
  },
  "language_info": {
   "codemirror_mode": {
    "name": "ipython",
    "version": 2
   },
   "file_extension": ".py",
   "mimetype": "text/x-python",
   "name": "python",
   "nbconvert_exporter": "python",
   "pygments_lexer": "ipython2",
   "version": "2.7.6"
  }
 },
 "nbformat": 4,
 "nbformat_minor": 0
}