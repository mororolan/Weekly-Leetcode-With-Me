{
 "cells": [
  {
   "cell_type": "markdown",
   "source": [
    "# DFS\n",
    "104. Maximum Depth of Binary Tree\n",
    "https://leetcode.com/problems/maximum-depth-of-binary-tree/"
   ],
   "metadata": {
    "collapsed": false,
    "pycharm": {
     "name": "#%% md\n"
    }
   }
  },
  {
   "cell_type": "code",
   "execution_count": null,
   "outputs": [],
   "source": [
    "# 自己写了竟然过了的，但比较慢\n",
    "class Solution:\n",
    "\n",
    "    def maxDepth(self, root: Optional[TreeNode]) -> int:\n",
    "        if root == None: return 0\n",
    "        def searchDepth(res,tmp,root) -> int:\n",
    "            if root.left:  res = searchDepth(res,tmp+1, root.left)\n",
    "            if root.right: res = searchDepth(res,tmp+1,root.right)\n",
    "            res = max(res,tmp)\n",
    "            return res\n",
    "        res = searchDepth(1,1,root)\n",
    "        return res"
   ],
   "metadata": {
    "collapsed": false,
    "pycharm": {
     "name": "#%%\n"
    }
   }
  },
  {
   "cell_type": "code",
   "execution_count": null,
   "outputs": [],
   "source": [
    "# 别人的，学习了下并进行改写，也比较好理解的\n",
    "class Solution:\n",
    "\n",
    "    def maxDepth(self, root: Optional[TreeNode]) -> int:\n",
    "        if root == None: return 0\n",
    "        depth_left = self.maxDepth(root.left)\n",
    "        depth_right = self.maxDepth(root.right)\n",
    "        return max(depth_left,depth_right) +1"
   ],
   "metadata": {
    "collapsed": false,
    "pycharm": {
     "name": "#%%\n"
    }
   }
  },
  {
   "cell_type": "markdown",
   "source": [
    "## 111. Minimum Depth of Binary Tree\n",
    "https://leetcode.com/problems/minimum-depth-of-binary-tree/submissions/"
   ],
   "metadata": {
    "collapsed": false,
    "pycharm": {
     "name": "#%% md\n"
    }
   }
  },
  {
   "cell_type": "code",
   "execution_count": null,
   "outputs": [],
   "source": [
    "# yang老板的方法，思路清晰，描述简单\n",
    "class Solution:\n",
    "    def minDepth(self, root: Optional[TreeNode]) -> int:\n",
    "        if root == None: return 0\n",
    "        if root.left == None: return self.minDepth(root.right) + 1\n",
    "        if root.right == None: return self.minDepth(root.left) + 1\n",
    "        return min(self.minDepth(root.left),self.minDepth(root.right))+1"
   ],
   "metadata": {
    "collapsed": false,
    "pycharm": {
     "name": "#%%\n"
    }
   }
  },
  {
   "cell_type": "code",
   "execution_count": null,
   "outputs": [],
   "source": [
    "# 我的，还是比较复杂\n",
    "class Solution:\n",
    "    def minDepth(self, root: Optional[TreeNode]) -> int:\n",
    "        if root == None: return 0\n",
    "        def searchDepth(res,tmp,root) -> int:\n",
    "            if root.left:  res = searchDepth(res,tmp+1, root.left)\n",
    "            if root.right: res = searchDepth(res,tmp+1,root.right)\n",
    "            if root.left == None and root.right == None: res =min(res,tmp)\n",
    "            return res\n",
    "        res = searchDepth(100001,1,root)\n",
    "        return res"
   ],
   "metadata": {
    "collapsed": false,
    "pycharm": {
     "name": "#%%\n"
    }
   }
  },
  {
   "cell_type": "markdown",
   "source": [
    "# BFS\n",
    "## 100. Same Tree\n",
    "https://leetcode.com/problems/same-tree/"
   ],
   "metadata": {
    "collapsed": false,
    "pycharm": {
     "name": "#%% md\n"
    }
   }
  },
  {
   "cell_type": "code",
   "execution_count": null,
   "outputs": [],
   "source": [
    "# 自己的办法，竟然过了，离谱\n",
    "class Solution:\n",
    "    def isSameTree(self, p: Optional[TreeNode], q: Optional[TreeNode]) -> bool:\n",
    "        if p == None and q == None: return True\n",
    "        if p == None or q == None or p.val != q.val: return False\n",
    "        return self.isSameTree(p.left, q.left) & self.isSameTree(p.right, q.right)"
   ],
   "metadata": {
    "collapsed": false,
    "pycharm": {
     "name": "#%%\n"
    }
   }
  },
  {
   "cell_type": "markdown",
   "source": [
    "## 101. Symmetric Tree\n",
    "https://leetcode.com/problems/symmetric-tree/"
   ],
   "metadata": {
    "collapsed": false,
    "pycharm": {
     "name": "#%% md\n"
    }
   }
  },
  {
   "cell_type": "code",
   "execution_count": null,
   "outputs": [],
   "source": [
    "# 目前感觉递归的思路比较清晰，就是看最底下是什么，然后看每一层嵌套循环，非常的套路化\n",
    "class Solution:\n",
    "    def isSymmetric(self, root: Optional[TreeNode]) -> bool:\n",
    "        return True if root == None or (root.left == None and root.right == None)  else self.isSym(root.left, root.right)\n",
    "\n",
    "    def isSym(self,r_l, r_r) -> bool:\n",
    "        if r_l == None and r_r == None: return True\n",
    "        if r_l == None or r_r == None or r_l.val != r_r.val: return False\n",
    "        return self.isSym(r_l.left, r_r.right) & self.isSym(r_l.right, r_r.left)"
   ],
   "metadata": {
    "collapsed": false,
    "pycharm": {
     "name": "#%%\n"
    }
   }
  },
  {
   "cell_type": "markdown",
   "source": [
    "## 102. Binary Tree Level Order Traversal\n",
    "没做出来，哭哭\n",
    "https://leetcode.com/problems/binary-tree-level-order-traversal/"
   ],
   "metadata": {
    "collapsed": false,
    "pycharm": {
     "name": "#%% md\n"
    }
   }
  },
  {
   "cell_type": "markdown",
   "source": [
    "# Dynamic Programming\n"
   ],
   "metadata": {
    "collapsed": false,
    "pycharm": {
     "name": "#%% md\n"
    }
   }
  },
  {
   "cell_type": "markdown",
   "source": [
    "## 121. Best Time to Buy and Sell Stock\n",
    "https://leetcode.com/problems/best-time-to-buy-and-sell-stock/"
   ],
   "metadata": {
    "collapsed": false,
    "pycharm": {
     "name": "#%% md\n"
    }
   }
  },
  {
   "cell_type": "code",
   "execution_count": null,
   "outputs": [],
   "source": [
    "# 我不懂为什么这个这么费时间，但我大为震撼\n",
    "class Solution:\n",
    "    def maxProfit(self, prices: List[int]) -> int:\n",
    "        a=0\n",
    "        res = 0\n",
    "        for i in range(len(prices)-1):\n",
    "            a = max(prices[i+1]-prices[i],a+prices[i+1]-prices[i])\n",
    "            res = max(res,a)\n",
    "        return res"
   ],
   "metadata": {
    "collapsed": false,
    "pycharm": {
     "name": "#%%\n"
    }
   }
  },
  {
   "cell_type": "markdown",
   "source": [
    "# Greedy"
   ],
   "metadata": {
    "collapsed": false,
    "pycharm": {
     "name": "#%% md\n"
    }
   }
  },
  {
   "cell_type": "markdown",
   "source": [
    "## 11. Container With Most Water\n",
    "https://leetcode.com/problems/container-with-most-water/"
   ],
   "metadata": {
    "collapsed": false,
    "pycharm": {
     "name": "#%% md\n"
    }
   }
  },
  {
   "cell_type": "code",
   "execution_count": null,
   "outputs": [],
   "source": [
    "# 真的是，越刷越没信心，我哭辽\n",
    "class Solution:\n",
    "    def maxArea(self, height: List[int]) -> int:\n",
    "        left = 0\n",
    "        right = len(height) - 1\n",
    "        res = 0\n",
    "        while left < right:\n",
    "            res = max(res, min(height[left],height[right]) * (right - left))\n",
    "            if height[left] < height[right]: left += 1\n",
    "            else: right -= 1\n",
    "        return res"
   ],
   "metadata": {
    "collapsed": false,
    "pycharm": {
     "name": "#%%\n"
    }
   }
  },
  {
   "cell_type": "markdown",
   "source": [
    "# Two pointer"
   ],
   "metadata": {
    "collapsed": false,
    "pycharm": {
     "name": "#%% md\n"
    }
   }
  },
  {
   "cell_type": "markdown",
   "source": [
    "# 141. Linked List Cycle\n",
    "https://leetcode.com/problems/linked-list-cycle/"
   ],
   "metadata": {
    "collapsed": false,
    "pycharm": {
     "name": "#%% md\n"
    }
   }
  },
  {
   "cell_type": "code",
   "execution_count": null,
   "outputs": [],
   "source": [
    "class Solution:\n",
    "    def hasCycle(self, head: Optional[ListNode]) -> bool:\n",
    "        if head == None or head.next == None: return False\n",
    "        a = head\n",
    "        b = head\n",
    "        # 注意是b\n",
    "        while b.next != None and b.next.next != None:\n",
    "            a = a.next\n",
    "            b = b.next.next\n",
    "            if a == b: return True\n",
    "        return False"
   ],
   "metadata": {
    "collapsed": false,
    "pycharm": {
     "name": "#%%\n"
    }
   }
  },
  {
   "cell_type": "code",
   "execution_count": null,
   "outputs": [],
   "source": [
    "# 83. Remove Duplicates from Sorted List\n",
    "# https://leetcode.com/problems/remove-duplicates-from-sorted-list/"
   ],
   "metadata": {
    "collapsed": false,
    "pycharm": {
     "name": "#%%\n"
    }
   }
  },
  {
   "cell_type": "code",
   "execution_count": null,
   "outputs": [],
   "source": [
    "# 好像突然悟了，不确定，再看看\n",
    "class Solution:\n",
    "    def deleteDuplicates(self, head: Optional[ListNode]) -> Optional[ListNode]:\n",
    "        res = head\n",
    "        while res.next:\n",
    "            if res.next.val == res.val: res.next = res.next.next\n",
    "            else: res = res.next\n",
    "        return head"
   ],
   "metadata": {
    "collapsed": false,
    "pycharm": {
     "name": "#%%\n"
    }
   }
  }
 ],
 "metadata": {
  "kernelspec": {
   "display_name": "Python 3",
   "language": "python",
   "name": "python3"
  },
  "language_info": {
   "codemirror_mode": {
    "name": "ipython",
    "version": 2
   },
   "file_extension": ".py",
   "mimetype": "text/x-python",
   "name": "python",
   "nbconvert_exporter": "python",
   "pygments_lexer": "ipython2",
   "version": "2.7.6"
  }
 },
 "nbformat": 4,
 "nbformat_minor": 0
}