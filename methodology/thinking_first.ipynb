{
 "cells": [
  {
   "cell_type": "markdown",
   "source": [
    "# 1. 前言"
   ],
   "metadata": {
    "collapsed": false,
    "pycharm": {
     "name": "#%% md\n"
    }
   }
  },
  {
   "cell_type": "markdown",
   "source": [
    "- 之前一直存在一个误区，认为题量first，但结合PM侧的层次方法结构后意识到是错误的。\n",
    "    - 追求题量是囫囵吞枣，形成了肌肉记忆，脑袋里是一团浆糊，再过段时间，又重新回到two_sum。\n",
    "    - 其次，最开始总想凭借自身的\"聪明才智\"硬想出solution，浪费了时间不说，自己心气高，做法又不好，肌肉记下了烂算法，反而形成了错误思路🙅。\n",
    "- 故，整体流程应该是：\n",
    "    - 学习📖 ➡️\n",
    "    - 思考🤔（要求：需要注意时间/空间复杂度） ➡️\n",
    "    - 进阶😄 ➡️\n",
    "    - 巩固⛽️\n",
    "- 需要注意的重点：\n",
    "    - **大局观（层次性） + 模块化学习**：一块一块啃，又有节奏，又有路线，方向明晰\n",
    "    - **写思路+重点**：学习时要多向他人输出自己的思考，教会别人，才能成就自己。\n",
    "    - **语言**：比较面试的时候都是~~Singlish~~ English, 还是要多思考用英语表达\n"
   ],
   "metadata": {
    "collapsed": false,
    "pycharm": {
     "name": "#%% md\n"
    }
   }
  },
  {
   "cell_type": "markdown",
   "source": [
    "# 2. 大局观\n",
    "- Programming Language: 前期 Python, 后期 Java\n",
    "- 问题类型：\n",
    "    - Array 1192\n",
    "    - String 566\n",
    "    - Hash Table 417\n",
    "    - Dynamic Programming 394\n",
    "    - Math 371\n",
    "    - Sorting 266\n",
    "    - Greedy 259\n",
    "    - Depth-First Search 256\n",
    "    - Database 216\n",
    "    - Breadth-First Search 200\n",
    "    - Tree 195\n",
    "    - Binary Search 193\n",
    "    - 其他：Matrix、Binary Tre、Two Pointers等……\n",
    "- 方法类型：\n",
    "    - Sliding Window 滑动窗口\n",
    "    - Hash Table\n",
    "    - Two Pointers\n",
    "- 做题思考路径："
   ],
   "metadata": {
    "collapsed": false,
    "pycharm": {
     "name": "#%% md\n"
    }
   }
  },
  {
   "cell_type": "markdown",
   "source": [
    "# 3. 节奏安排\n",
    "当前距离 23年1月31日相距 137天 = 19星期4天 = 4个月15天\n",
    "TODO"
   ],
   "metadata": {
    "collapsed": false,
    "pycharm": {
     "name": "#%% md\n"
    }
   }
  },
  {
   "cell_type": "markdown",
   "source": [
    "# 4. 疑问\n",
    "- 思考边界条件"
   ],
   "metadata": {
    "collapsed": false,
    "pycharm": {
     "name": "#%% md\n"
    }
   }
  },
  {
   "cell_type": "markdown",
   "source": [
    "# 5. 思考记录\n",
    "## 5.1 学习时\n",
    "- **路径**： 仔细阅读题目 ➡️ 有思路：自己尝试，debug（20分钟内）/没思路：看答案，理解并复现\n",
    "\n",
    "- 对于正确答案和自己的不一致时，一定要耐心，因为自己是容易出错的，而正确答案已经经过了时间的验证。\n",
    "- 全文阅读题目，耐心很重要，之后再提速。"
   ],
   "metadata": {
    "collapsed": false,
    "pycharm": {
     "name": "#%% md\n"
    }
   }
  },
  {
   "cell_type": "code",
   "execution_count": null,
   "outputs": [],
   "source": [],
   "metadata": {
    "collapsed": false,
    "pycharm": {
     "name": "#%%\n"
    }
   }
  }
 ],
 "metadata": {
  "kernelspec": {
   "display_name": "Python 3",
   "language": "python",
   "name": "python3"
  },
  "language_info": {
   "codemirror_mode": {
    "name": "ipython",
    "version": 2
   },
   "file_extension": ".py",
   "mimetype": "text/x-python",
   "name": "python",
   "nbconvert_exporter": "python",
   "pygments_lexer": "ipython2",
   "version": "2.7.6"
  }
 },
 "nbformat": 4,
 "nbformat_minor": 0
}