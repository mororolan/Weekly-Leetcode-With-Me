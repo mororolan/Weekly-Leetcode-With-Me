{
 "cells": [
  {
   "cell_type": "markdown",
   "source": [
    "# 5. Longest Palindromic Substring\n",
    "Medium\n",
    "https://leetcode.com/problems/longest-palindromic-substring/\n",
    "** 02 Mar **"
   ],
   "metadata": {
    "collapsed": false,
    "pycharm": {
     "name": "#%% md\n"
    }
   }
  },
  {
   "cell_type": "code",
   "execution_count": null,
   "outputs": [],
   "source": [
    "## normal way\n",
    "class Solution:\n",
    "    def longestPalindrome(self, s: str) -> str:\n",
    "        res = s[0]\n",
    "        if len(s) == 2 and s[0] == s[1] or len(s) == 1: return s\n",
    "        if len(s) == 2: return s[0]\n",
    "        for i in range(1, len(s) - 1):\n",
    "            res_tmp = ''\n",
    "            x = i - 1\n",
    "            y = i + 1\n",
    "            while x >= 0 and y <= len(s) - 1:\n",
    "                if s[x] == s[y]:\n",
    "                    res_tmp = s[x:y+1]\n",
    "                    x -= 1\n",
    "                    y += 1\n",
    "                else:\n",
    "                    break\n",
    "            res = res_tmp if len(res_tmp) > len(res) else res\n",
    "            print(res)\n",
    "\n",
    "        for i in range(0, len(s) - 1):\n",
    "            x = i\n",
    "            y = i + 1\n",
    "            while x >= 0 and y <= len(s) - 1:\n",
    "                if s[x] == s[y]:\n",
    "                    res_tmp = s[x:y+1]\n",
    "                    x -= 1\n",
    "                    y += 1\n",
    "                else:\n",
    "                    break\n",
    "            res = res_tmp if len(res_tmp) > len(res) else res\n",
    "        return res"
   ],
   "metadata": {
    "collapsed": false,
    "pycharm": {
     "name": "#%%\n"
    }
   }
  }
 ],
 "metadata": {
  "kernelspec": {
   "display_name": "Python 3",
   "language": "python",
   "name": "python3"
  },
  "language_info": {
   "codemirror_mode": {
    "name": "ipython",
    "version": 2
   },
   "file_extension": ".py",
   "mimetype": "text/x-python",
   "name": "python",
   "nbconvert_exporter": "python",
   "pygments_lexer": "ipython2",
   "version": "2.7.6"
  }
 },
 "nbformat": 4,
 "nbformat_minor": 0
}