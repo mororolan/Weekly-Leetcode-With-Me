{
 "cells": [
  {
   "cell_type": "markdown",
   "source": [
    "# 14. Longest Common Prefix\n",
    "https://leetcode.com/problems/longest-common-prefix/\n"
   ],
   "metadata": {
    "collapsed": false,
    "pycharm": {
     "name": "#%% md\n"
    }
   }
  },
  {
   "cell_type": "code",
   "execution_count": null,
   "outputs": [],
   "source": [
    "class Solution:\n",
    "    def longestCommonPrefix(self, strs: List[str]) -> str:\n",
    "        res = strs[0]\n",
    "        if len(strs) == 1: return res\n",
    "        for i in range(len(strs)):\n",
    "            if strs[i] == \"\" :return \"\"\n",
    "            for j in range(min(len(strs[i]),len(res))):\n",
    "                print(\"i{},j{},res{}\".format(i,j,res))\n",
    "                if len(strs[i]) < len(res): res=res[0:len(strs[i])]\n",
    "                if res[j]!=strs[i][j]:\n",
    "                    res = res[0:j]\n",
    "                    break\n",
    "        return res\n"
   ],
   "metadata": {
    "collapsed": false,
    "pycharm": {
     "name": "#%%\n"
    }
   }
  },
  {
   "cell_type": "code",
   "execution_count": null,
   "outputs": [],
   "source": [],
   "metadata": {
    "collapsed": false,
    "pycharm": {
     "name": "#%%\n"
    }
   }
  }
 ],
 "metadata": {
  "kernelspec": {
   "display_name": "Python 3",
   "language": "python",
   "name": "python3"
  },
  "language_info": {
   "codemirror_mode": {
    "name": "ipython",
    "version": 2
   },
   "file_extension": ".py",
   "mimetype": "text/x-python",
   "name": "python",
   "nbconvert_exporter": "python",
   "pygments_lexer": "ipython2",
   "version": "2.7.6"
  }
 },
 "nbformat": 4,
 "nbformat_minor": 0
}