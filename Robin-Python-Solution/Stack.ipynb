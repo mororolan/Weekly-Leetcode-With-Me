{
 "cells": [
  {
   "cell_type": "code",
   "execution_count": null,
   "outputs": [],
   "source": [
    "# 20. Valid Parentheses\n",
    "**Mar 01**\n",
    "https://leetcode.com/problems/valid-parentheses/description/"
   ],
   "metadata": {
    "collapsed": false,
    "pycharm": {
     "name": "#%%\n"
    }
   }
  },
  {
   "cell_type": "code",
   "execution_count": null,
   "outputs": [],
   "source": [
    "class Solution:\n",
    "    def isValid(self, s: str) -> bool:\n",
    "        # stack = ''\n",
    "        # for i in range(len(s)):\n",
    "        #     if s[i] in ['(', '[', '{']:\n",
    "        #         stack += s[i]\n",
    "        #     elif stack == '': return False\n",
    "        #     elif (s[i] == ')' and stack[-1] == '(') or (s[i] == ']' and stack[-1] == '[') or (s[i] == '}' and stack[-1] == '{'):\n",
    "        #             stack = stack[0:-1]\n",
    "        #     else:\n",
    "        #         return False\n",
    "        # if stack != '': return False\n",
    "        # return True\n",
    "\n",
    "        # \"Genius method learned from the comments section (this guy totally understood arrays hhhhhh)\"\n",
    "        while '()' in s or '[]'in s or '{}' in s:\n",
    "            s = s.replace('()','').replace('[]','').replace('{}','')\n",
    "        return False if len(s) !=0 else True\n"
   ],
   "metadata": {
    "collapsed": false,
    "pycharm": {
     "name": "#%%\n"
    }
   }
  }
 ],
 "metadata": {
  "kernelspec": {
   "display_name": "Python 3",
   "language": "python",
   "name": "python3"
  },
  "language_info": {
   "codemirror_mode": {
    "name": "ipython",
    "version": 2
   },
   "file_extension": ".py",
   "mimetype": "text/x-python",
   "name": "python",
   "nbconvert_exporter": "python",
   "pygments_lexer": "ipython2",
   "version": "2.7.6"
  }
 },
 "nbformat": 4,
 "nbformat_minor": 0
}