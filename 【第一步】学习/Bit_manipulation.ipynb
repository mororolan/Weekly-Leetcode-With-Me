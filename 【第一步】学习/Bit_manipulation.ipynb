{
 "cells": [
  {
   "cell_type": "markdown",
   "source": [
    "# 亦或运算\n",
    "0⊕0=0，1⊕0=1，0⊕1=1，1⊕1=0（同为0，异为1）\n",
    "0 ^ 0 = 0\n",
    "0 ^ 1 = 1\n",
    "1 ^ 0 = 1\n",
    "1 ^ 1 = 0"
   ],
   "metadata": {
    "collapsed": false,
    "pycharm": {
     "name": "#%% md\n"
    }
   }
  },
  {
   "cell_type": "markdown",
   "source": [
    "# 268. Missing Number\n",
    "https://leetcode.com/problems/missing-number/submissions/\n",
    "- 用了自己的笨办法，写得很快，但是感觉很费空间\n",
    "- 正确解法：亦或运算。。先去学习学习\n",
    "-"
   ],
   "metadata": {
    "collapsed": false,
    "pycharm": {
     "name": "#%% md\n"
    }
   }
  },
  {
   "cell_type": "code",
   "execution_count": null,
   "outputs": [],
   "source": [
    "class Solution:\n",
    "    def missingNumber(self, nums) -> int:\n",
    "        test = ['haha'] * (len(nums)+1)\n",
    "        for i in range(len(nums)): test[nums[i]] = nums[i]\n",
    "        for i in range(len(test)):\n",
    "            if test[i] == 'haha': return i"
   ],
   "metadata": {
    "collapsed": false,
    "pycharm": {
     "name": "#%%\n"
    }
   }
  },
  {
   "cell_type": "code",
   "execution_count": null,
   "outputs": [],
   "source": [
    "class Solution:\n",
    "    def missingNumber(self, nums) -> int:\n",
    "        result = 0\n",
    "        for i in range(len(nums)): result ^= (i+1)^nums[i]\n",
    "        return result"
   ],
   "metadata": {
    "collapsed": false,
    "pycharm": {
     "name": "#%%\n"
    }
   }
  },
  {
   "cell_type": "markdown",
   "source": [
    "# 231. Power of Two\n",
    "https://leetcode.com/problems/power-of-two/"
   ],
   "metadata": {
    "collapsed": false,
    "pycharm": {
     "name": "#%% md\n"
    }
   }
  },
  {
   "cell_type": "code",
   "execution_count": null,
   "outputs": [],
   "source": [
    "class Solution:\n",
    "    def isPowerOfTwo(self, n: int) -> bool:\n",
    "        while n > 2:\n",
    "            if n % 2 != 0: return False\n",
    "            n = n/2\n",
    "        if n < 1: return False\n",
    "        return True\n",
    "        # if n < 1: return False\n",
    "        # if n == 1: return True\n",
    "        # if int(bin(n)[3:]) == 0 and int(bin(n)[2]) == 1: return True\n",
    "        # return False\n"
   ],
   "metadata": {
    "collapsed": false,
    "pycharm": {
     "name": "#%%\n"
    }
   }
  },
  {
   "cell_type": "markdown",
   "source": [
    "# 191. Number of 1 Bits\n",
    "https://leetcode.com/problems/number-of-1-bits/"
   ],
   "metadata": {
    "collapsed": false,
    "pycharm": {
     "name": "#%% md\n"
    }
   }
  },
  {
   "cell_type": "code",
   "execution_count": null,
   "outputs": [],
   "source": [
    "class Solution:\n",
    "    def hammingWeight(self, n: int) -> int:\n",
    "        res = 0\n",
    "        while n > 0:\n",
    "            res += n&1\n",
    "            n = n >> 1\n",
    "        return res"
   ],
   "metadata": {
    "collapsed": false,
    "pycharm": {
     "name": "#%%\n"
    }
   }
  },
  {
   "cell_type": "code",
   "execution_count": null,
   "outputs": [],
   "source": [
    "# discussion zone 大神的做法，神奇wwwww，一个新函数\n",
    "        counter = collections.Counter(bin(n)[2:])\n",
    "        print(counter)\n",
    "        return counter.get(\"1\", 0)"
   ],
   "metadata": {
    "collapsed": false,
    "pycharm": {
     "name": "#%%\n"
    }
   }
  }
 ],
 "metadata": {
  "kernelspec": {
   "display_name": "Python 3",
   "language": "python",
   "name": "python3"
  },
  "language_info": {
   "codemirror_mode": {
    "name": "ipython",
    "version": 2
   },
   "file_extension": ".py",
   "mimetype": "text/x-python",
   "name": "python",
   "nbconvert_exporter": "python",
   "pygments_lexer": "ipython2",
   "version": "2.7.6"
  }
 },
 "nbformat": 4,
 "nbformat_minor": 0
}