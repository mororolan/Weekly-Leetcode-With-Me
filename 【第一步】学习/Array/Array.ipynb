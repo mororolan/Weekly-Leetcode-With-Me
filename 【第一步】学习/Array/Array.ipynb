{
 "cells": [
  {
   "cell_type": "markdown",
   "source": [
    "## 16 Sep"
   ],
   "metadata": {
    "collapsed": false,
    "pycharm": {
     "name": "#%% md\n"
    }
   }
  },
  {
   "cell_type": "markdown",
   "source": [
    "### 27. Remove Element\n",
    "https://leetcode.com/problems/remove-element/\n",
    "\n",
    "Highlight: **in place**，we could not new an array."
   ],
   "metadata": {
    "collapsed": false,
    "pycharm": {
     "name": "#%% md\n"
    }
   }
  },
  {
   "cell_type": "code",
   "execution_count": null,
   "outputs": [],
   "source": [
    "class Solution:\n",
    "    def removeElement(self, nums, val) -> int:\n",
    "        ans = 0\n",
    "        # distinguish i and num[i]\n",
    "        for i in nums:\n",
    "            if (i != val):\n",
    "                nums[ans] = i\n",
    "                ans += 1\n",
    "        return ans\n"
   ],
   "metadata": {
    "collapsed": false,
    "pycharm": {
     "name": "#%%\n"
    }
   }
  },
  {
   "cell_type": "markdown",
   "source": [
    "### 26. Remove Duplicates from Sorted Array\n",
    "https://leetcode.com/problems/remove-duplicates-from-sorted-array/\n",
    "HL:\n",
    "   - in-place, save the space\n",
    "   - non-decreasing order\n",
    "other: write by myself, but thinking is ambiguous"
   ],
   "metadata": {
    "collapsed": false,
    "pycharm": {
     "name": "#%% md\n"
    }
   }
  },
  {
   "cell_type": "code",
   "execution_count": null,
   "outputs": [],
   "source": [
    "class Solution:\n",
    "    def removeDuplicates(self, nums) -> int:\n",
    "        ans = 0\n",
    "        i = 1\n",
    "        while i < len(nums):\n",
    "            if nums[i] > nums[i - 1]:\n",
    "                ans += 1\n",
    "                nums[ans] = nums[i]\n",
    "            i += 1\n",
    "\n",
    "        ans += 1\n",
    "        return ans\n"
   ],
   "metadata": {
    "collapsed": false,
    "pycharm": {
     "name": "#%%\n"
    }
   }
  },
  {
   "cell_type": "markdown",
   "source": [
    "## 80. Remove Duplicates from Sorted Array II\n",
    "18:05 - 18:28 = 23 mins\n",
    "HL:non-decreasing order; in-place;at most twice\n",
    "其他：\n",
    "    - 自己写的，语法混淆了 ｜ 和 or，导致简单运算不符合预期。\n",
    "    - 有点沉不下心，总想按答案索骥，而不是创造答案，心态不对。\n"
   ],
   "metadata": {
    "collapsed": false,
    "pycharm": {
     "name": "#%% md\n"
    }
   }
  },
  {
   "cell_type": "code",
   "execution_count": null,
   "outputs": [],
   "source": [
    "class Solution:\n",
    "    def removeDuplicates(self, nums) -> int:\n",
    "        if len(nums) <= 2: return len(nums)\n",
    "        ans = 0\n",
    "        b = 1\n",
    "        index = 2\n",
    "        while index < len(nums):\n",
    "            if nums[index] > nums[b] or nums[index] != nums[ans]:\n",
    "                b += 1\n",
    "                nums[b] = nums[index]\n",
    "                ans += 1\n",
    "            index += 1\n",
    "        b += 1\n",
    "        return b\n"
   ],
   "metadata": {
    "collapsed": false,
    "pycharm": {
     "name": "#%%\n"
    }
   }
  },
  {
   "cell_type": "markdown",
   "source": [
    "### 66. Plus One\n",
    "https://leetcode.com/problems/plus-one/\n",
    "18:32 - 18:41\n",
    "HL:\n",
    "思路：拼成一串数字加一，然后展开成一个array\n",
    "感受：写的飞快，空间占用感觉确实很大，之后要优化😂"
   ],
   "metadata": {
    "collapsed": false,
    "pycharm": {
     "name": "#%% md\n"
    }
   }
  },
  {
   "cell_type": "code",
   "execution_count": null,
   "outputs": [],
   "source": [
    "class Solution:\n",
    "    def plusOne(self, digits):\n",
    "        s = ''\n",
    "        for i in digits: s += str(i)\n",
    "        ans_str = int(s) + 1\n",
    "        ans = []\n",
    "        i = 0\n",
    "        while i < len(str(ans_str)):\n",
    "            ans.append(str(ans_str)[i])\n",
    "            i += 1\n",
    "        return ans"
   ],
   "metadata": {
    "collapsed": false,
    "pycharm": {
     "name": "#%%\n"
    }
   }
  },
  {
   "cell_type": "markdown",
   "source": [
    "### 118. Pascal's Triangle\n",
    "https://leetcode.com/problems/pascals-triangle/\n",
    "30mins + 大意了，一直在debug，没检查每一个边界条件。。。我傻了。。。"
   ],
   "metadata": {
    "collapsed": false,
    "pycharm": {
     "name": "#%% md\n"
    }
   }
  },
  {
   "cell_type": "code",
   "execution_count": null,
   "outputs": [],
   "source": [
    "class Solution:\n",
    "    def generate(self, numRows):\n",
    "        if numRows == 1: return [[1]]\n",
    "        if numRows == 2: return [[1], [1, 1]]\n",
    "        ans = [[1]] * numRows\n",
    "        index = 0\n",
    "        while index < numRows:\n",
    "            ans[index] = [1] * (index + 1)\n",
    "            index += 1\n",
    "\n",
    "        index = 2\n",
    "        while index < numRows:\n",
    "            j = 1\n",
    "            while j < len(ans[index]) - 1:\n",
    "                ans[index][j] = ans[index - 1][j - 1] + ans[index - 1][j]\n",
    "                j += 1\n",
    "            index += 1\n",
    "\n",
    "        return ans"
   ],
   "metadata": {
    "collapsed": false,
    "pycharm": {
     "name": "#%%\n"
    }
   }
  },
  {
   "cell_type": "markdown",
   "source": [
    "### 119. Pascal's Triangle II\n",
    "纠结超久orz，最后还是有点迷糊\n",
    "浪费时间了🥀\n",
    "【！！！之后需要看下，虽然知道要倒着算，但是感觉还没有get到orz】"
   ],
   "metadata": {
    "collapsed": false,
    "pycharm": {
     "name": "#%% md\n"
    }
   }
  },
  {
   "cell_type": "code",
   "execution_count": null,
   "outputs": [],
   "source": [
    "class Solution:\n",
    "    def getRow(self, rowIndex):\n",
    "        ans = [0] * (rowIndex + 1)\n",
    "        ans[0] = 1\n",
    "        i = 1\n",
    "        while i <= rowIndex:\n",
    "            j = i\n",
    "            while j >= 1:\n",
    "                ans[j] += ans[j - 1]\n",
    "                j -= 1\n",
    "            i += 1\n",
    "\n",
    "        return ans\n"
   ],
   "metadata": {
    "collapsed": false,
    "pycharm": {
     "name": "#%%\n"
    }
   }
  },
  {
   "cell_type": "markdown",
   "source": [
    "# 88. Merge Sorted Array\n",
    "https://leetcode.com/problems/merge-sorted-array/\n",
    "21：14 - 21：38 24mins 放弃\n",
    "放弃原因：发现如果正向思考，需要考虑太多情况，把数据调换后大小比较存在问题。+学习过程ing，应不纠结\n",
    "正确思路：因为数组足够大，直接从最后一位往前加，也不会存在加不到的情况\n",
    "其他：思路正确后遗漏了边界条件，又重新加条件改了下，头秃"
   ],
   "metadata": {
    "collapsed": false,
    "pycharm": {
     "name": "#%% md\n"
    }
   }
  },
  {
   "cell_type": "code",
   "execution_count": null,
   "outputs": [],
   "source": [
    "class Solution:\n",
    "    def merge(self, nums1, m: int, nums2, n: int) -> None:\n",
    "        \"\"\"\n",
    "        Do not return anything, modify nums1 in-place instead.\n",
    "        \"\"\"\n",
    "        j = 0\n",
    "        if m == 0:\n",
    "            for i in nums2:\n",
    "                nums1[j] = i\n",
    "                j += 1\n",
    "        x = m - 1\n",
    "        y = n - 1\n",
    "        index = m + n - 1\n",
    "        while x >= 0 and y >= 0:\n",
    "            if nums1[x] >= nums2[y]:\n",
    "                nums1[index] = nums1[x]\n",
    "                x -= 1\n",
    "                print(nums1)\n",
    "            else:\n",
    "                nums1[index] = nums2[y]\n",
    "                y -= 1\n",
    "            index -= 1\n",
    "        while y >= 0:\n",
    "            nums1[index] = nums2[y]\n",
    "            print(nums1)\n",
    "            y -= 1\n",
    "            index -= 1\n",
    "        return None"
   ],
   "metadata": {
    "collapsed": false,
    "pycharm": {
     "name": "#%%\n"
    }
   }
  },
  {
   "cell_type": "markdown",
   "source": [
    "# 1 two sum\n",
    "https://leetcode.com/problems/two-sum\n",
    "老同学。。。再刷一次8\n",
    "反正就是。。。不在状态SOS，但是至少比第一次好， 思路没错，但边界条件错的离谱，心碎2022"
   ],
   "metadata": {
    "collapsed": false,
    "pycharm": {
     "name": "#%% md\n"
    }
   }
  },
  {
   "cell_type": "code",
   "execution_count": 11,
   "outputs": [],
   "source": [
    "class Solution:\n",
    "    def twoSum(self, nums, target: int):\n",
    "        tmp = {}\n",
    "        for i in range(len(nums)): tmp[target - nums[i]] = i\n",
    "        for i in range(len(nums)):\n",
    "            if nums[i] in tmp and i != tmp[nums[i]]: return [i, tmp[nums[i]]]\n",
    "        return []\n"
   ],
   "metadata": {
    "collapsed": false,
    "pycharm": {
     "name": "#%%\n"
    }
   }
  },
  {
   "cell_type": "markdown",
   "source": [
    "# 153 Find Minimum in Rotated Sorted Array\n",
    "https://leetcode.com/problems/find-minimum-in-rotated-sorted-array/\n",
    "15：35 - 15：50 方法很暴力，一遍过我也是没想到orz"
   ],
   "metadata": {
    "collapsed": false,
    "pycharm": {
     "name": "#%% md\n"
    }
   }
  },
  {
   "cell_type": "code",
   "execution_count": 1,
   "outputs": [],
   "source": [
    "class Solution:\n",
    "    def findMin(self, nums) -> int:\n",
    "        if len(nums) == 1: return nums[0]\n",
    "        if nums[0] > nums[-1]:\n",
    "            length = len(nums)\n",
    "            while length - 1 >= 0:\n",
    "                if nums[length - 2] > nums[length - 1]: return nums[length - 1]\n",
    "                length -= 1\n",
    "        else:\n",
    "            return nums[0]"
   ],
   "metadata": {
    "collapsed": false,
    "pycharm": {
     "name": "#%%\n"
    }
   }
  },
  {
   "cell_type": "code",
   "execution_count": null,
   "outputs": [],
   "source": [
    "# 154 Find Minimum in Rotated Sorted Array II\n",
    "https: // leetcode.com / problems / find - minimum - in -rotated - sorted - array - ii / submissions /\n",
    "就是。。改一下就过了。。离谱。。突然好简单。。但是标记的hard"
   ],
   "metadata": {
    "collapsed": false,
    "pycharm": {
     "name": "#%%\n"
    }
   }
  },
  {
   "cell_type": "code",
   "execution_count": null,
   "outputs": [],
   "source": [
    "class Solution:\n",
    "    def findMin(self, nums) -> int:\n",
    "        if len(nums) == 1: return nums[0]\n",
    "        if nums[0] < nums[-1]:\n",
    "            return nums[0]\n",
    "        else:\n",
    "            length = len(nums)\n",
    "            while length - 1 >= 0:\n",
    "                if nums[length - 2] > nums[length - 1]: return nums[length - 1]\n",
    "                length -= 1\n",
    "                if length == 1: return nums[0]"
   ],
   "metadata": {
    "collapsed": false,
    "pycharm": {
     "name": "#%%\n"
    }
   }
  },
  {
   "cell_type": "code",
   "execution_count": null,
   "outputs": [],
   "source": [
    "# 84 Largest Rectangle in Histogram\n",
    "不会做，先跳过"
   ],
   "metadata": {
    "collapsed": false,
    "pycharm": {
     "name": "#%%\n"
    }
   }
  },
  {
   "cell_type": "markdown",
   "source": [
    "# 9. Palindrome Number\n",
    "https://leetcode.com/problems/palindrome-number/\n",
    "17:20 - 17:24"
   ],
   "metadata": {
    "collapsed": false,
    "pycharm": {
     "name": "#%% md\n"
    }
   }
  },
  {
   "cell_type": "code",
   "execution_count": null,
   "outputs": [],
   "source": [
    "class Solution:\n",
    "    def isPalindrome(self, x) -> bool:\n",
    "        if x < 0: return False\n",
    "        str_x = str(x)\n",
    "        len_x = len(str_x)\n",
    "        i = 0\n",
    "        while i <= (len_x / 2):\n",
    "            if str_x[i] != str_x[-1 - i]:\n",
    "                return False\n",
    "            i += 1\n",
    "        return True"
   ],
   "metadata": {
    "collapsed": false,
    "pycharm": {
     "name": "#%%\n"
    }
   }
  },
  {
   "cell_type": "markdown",
   "source": [
    "# 74. Search a 2D Matrix\n",
    "https://leetcode.com/problems/search-a-2d-matrix/\n",
    "17:30 - 17:38\n",
    "暴力法速通，先把暴力法熟悉了再升级"
   ],
   "metadata": {
    "collapsed": false,
    "pycharm": {
     "name": "#%% md\n"
    }
   }
  },
  {
   "cell_type": "code",
   "execution_count": null,
   "outputs": [],
   "source": [
    "class Solution:\n",
    "    def searchMatrix(self, matrix, target) -> bool:\n",
    "        a = len(matrix[0])\n",
    "        b = len(matrix)\n",
    "        if target < matrix[0][0] or target > matrix[-1][-1]: return False\n",
    "        i = 0\n",
    "        j = 1\n",
    "        while j < b:\n",
    "            if matrix[j][0] > target:\n",
    "                break\n",
    "            j += 1\n",
    "        while i < a:\n",
    "            if matrix[j - 1][i] == target: return True\n",
    "            i += 1\n",
    "        return False\n"
   ],
   "metadata": {
    "collapsed": false,
    "pycharm": {
     "name": "#%%\n"
    }
   }
  },
  {
   "cell_type": "markdown",
   "source": [
    "# 35 Search Insert Position\n",
    "https://leetcode.com/problems/search-insert-position/\n",
    "二分法：左右，中三个值，维护条件左大于右"
   ],
   "metadata": {
    "collapsed": false,
    "pycharm": {
     "name": "#%% md\n"
    }
   }
  },
  {
   "cell_type": "code",
   "execution_count": null,
   "outputs": [],
   "source": [
    "class Solution:\n",
    "    def searchInsert(self, nums, target: int) -> int:\n",
    "        if target > nums[-1]: return len(nums)\n",
    "        if target <= nums[0]: return 0\n",
    "        left = 0\n",
    "        right = len(nums) - 1\n",
    "        while left <= right:\n",
    "            mid = int(( right + left )/2)\n",
    "            if target == nums[mid]: return mid\n",
    "            if target > nums[mid]: left = mid + 1\n",
    "            else: right = mid - 1\n",
    "        return left\n"
   ],
   "metadata": {
    "collapsed": false,
    "pycharm": {
     "name": "#%%\n"
    }
   }
  }
 ],
 "metadata": {
  "kernelspec": {
   "display_name": "Python 3",
   "language": "python",
   "name": "python3"
  },
  "language_info": {
   "codemirror_mode": {
    "name": "ipython",
    "version": 2
   },
   "file_extension": ".py",
   "mimetype": "text/x-python",
   "name": "python",
   "nbconvert_exporter": "python",
   "pygments_lexer": "ipython2",
   "version": "2.7.6"
  }
 },
 "nbformat": 4,
 "nbformat_minor": 0
}