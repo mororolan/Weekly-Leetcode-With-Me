{
 "cells": [
  {
   "cell_type": "markdown",
   "source": [
    "## 16 Sep"
   ],
   "metadata": {
    "collapsed": false,
    "pycharm": {
     "name": "#%% md\n"
    }
   }
  },
  {
   "cell_type": "markdown",
   "source": [
    "### 27. Remove Element\n",
    "https://leetcode.com/problems/remove-element/\n",
    "\n",
    "Highlight: **in place**，we could not new an array."
   ],
   "metadata": {
    "collapsed": false,
    "pycharm": {
     "name": "#%% md\n"
    }
   }
  },
  {
   "cell_type": "code",
   "execution_count": null,
   "outputs": [],
   "source": [
    "class Solution:\n",
    "    def removeElement(self, nums, val) -> int:\n",
    "        ans = 0\n",
    "        # distinguish i and num[i]\n",
    "        for i in nums:\n",
    "            if (i != val):\n",
    "                nums[ans] = i\n",
    "                ans += 1\n",
    "        return ans\n"
   ],
   "metadata": {
    "collapsed": false,
    "pycharm": {
     "name": "#%%\n"
    }
   }
  },
  {
   "cell_type": "markdown",
   "source": [
    "### 26. Remove Duplicates from Sorted Array\n",
    "https://leetcode.com/problems/remove-duplicates-from-sorted-array/\n",
    "HL:\n",
    "   - in-place, save the space\n",
    "   - non-decreasing order\n",
    "other: write by myself, but thinking is ambiguous"
   ],
   "metadata": {
    "collapsed": false,
    "pycharm": {
     "name": "#%% md\n"
    }
   }
  },
  {
   "cell_type": "code",
   "execution_count": null,
   "outputs": [],
   "source": [
    "class Solution:\n",
    "    def removeDuplicates(self, nums) -> int:\n",
    "        ans = 0\n",
    "        i = 1\n",
    "        while i < len(nums):\n",
    "            if nums[i] > nums[i-1]:\n",
    "                ans += 1\n",
    "                nums[ans] = nums[i]\n",
    "            i += 1\n",
    "\n",
    "        ans += 1\n",
    "        return ans\n"
   ],
   "metadata": {
    "collapsed": false,
    "pycharm": {
     "name": "#%%\n"
    }
   }
  },
  {
   "cell_type": "markdown",
   "source": [
    "## 80. Remove Duplicates from Sorted Array II\n",
    "18:05 - 18:28 = 23 mins\n",
    "HL:non-decreasing order; in-place;at most twice\n",
    "其他：\n",
    "    - 自己写的，语法混淆了 ｜ 和 or，导致简单运算不符合预期。\n",
    "    - 有点沉不下心，总想按答案索骥，而不是创造答案，心态不对。\n"
   ],
   "metadata": {
    "collapsed": false,
    "pycharm": {
     "name": "#%% md\n"
    }
   }
  },
  {
   "cell_type": "code",
   "execution_count": null,
   "outputs": [],
   "source": [
    "class Solution:\n",
    "    def removeDuplicates(self, nums) -> int:\n",
    "        if len(nums) <= 2: return len(nums)\n",
    "        ans = 0\n",
    "        b = 1\n",
    "        index = 2\n",
    "        while index < len(nums):\n",
    "            if nums[index] > nums[b] or nums[index] != nums[ans]:\n",
    "                b += 1\n",
    "                nums[b] = nums [index]\n",
    "                ans += 1\n",
    "            index += 1\n",
    "        b += 1\n",
    "        return b\n"
   ],
   "metadata": {
    "collapsed": false,
    "pycharm": {
     "name": "#%%\n"
    }
   }
  },
  {
   "cell_type": "markdown",
   "source": [
    "### 66. Plus One\n",
    "https://leetcode.com/problems/plus-one/\n",
    "18:32 - 18:41\n",
    "HL:\n",
    "思路：拼成一串数字加一，然后展开成一个array\n",
    "感受：写的飞快，空间占用感觉确实很大，之后要优化😂"
   ],
   "metadata": {
    "collapsed": false,
    "pycharm": {
     "name": "#%% md\n"
    }
   }
  },
  {
   "cell_type": "code",
   "execution_count": null,
   "outputs": [],
   "source": [
    "class Solution:\n",
    "    def plusOne(self, digits):\n",
    "        s = ''\n",
    "        for i in digits: s += str(i)\n",
    "        ans_str = int(s) + 1\n",
    "        ans = []\n",
    "        i = 0\n",
    "        while i < len(str(ans_str)) :\n",
    "            ans.append(str(ans_str)[i])\n",
    "            i += 1\n",
    "        return ans"
   ],
   "metadata": {
    "collapsed": false,
    "pycharm": {
     "name": "#%%\n"
    }
   }
  },
  {
   "cell_type": "markdown",
   "source": [
    "### 118. Pascal's Triangle\n",
    "https://leetcode.com/problems/pascals-triangle/\n",
    "30mins + 大意了，一直在debug，没检查每一个边界条件。。。我傻了。。。"
   ],
   "metadata": {
    "collapsed": false,
    "pycharm": {
     "name": "#%% md\n"
    }
   }
  },
  {
   "cell_type": "code",
   "execution_count": null,
   "outputs": [],
   "source": [
    "class Solution:\n",
    "    def generate(self, numRows):\n",
    "        if numRows == 1: return [[1]]\n",
    "        if numRows == 2: return[[1],[1,1]]\n",
    "        ans = [[1]] * numRows\n",
    "        index = 0\n",
    "        while index < numRows:\n",
    "            ans[index] = [1] * (index+1)\n",
    "            index += 1\n",
    "\n",
    "        index = 2\n",
    "        while index < numRows:\n",
    "            j = 1\n",
    "            while j < len(ans[index]) - 1:\n",
    "                ans[index][j]=ans[index-1][j-1]+ ans[index-1][j]\n",
    "                j += 1\n",
    "            index += 1\n",
    "\n",
    "        return ans"
   ],
   "metadata": {
    "collapsed": false,
    "pycharm": {
     "name": "#%%\n"
    }
   }
  },
  {
   "cell_type": "markdown",
   "source": [
    "### 119. Pascal's Triangle II\n",
    "纠结超久orz，最后还是有点迷糊\n",
    "浪费时间了🥀"
   ],
   "metadata": {
    "collapsed": false,
    "pycharm": {
     "name": "#%% md\n"
    }
   }
  },
  {
   "cell_type": "code",
   "execution_count": null,
   "outputs": [],
   "source": [
    "class Solution:\n",
    "    def getRow(self, rowIndex):\n",
    "        ans = [0] * (rowIndex+1)\n",
    "        ans[0] = 1\n",
    "        i = 1\n",
    "        while i <= rowIndex:\n",
    "            j = i\n",
    "            while j >= 1:\n",
    "                ans[j] += ans[j-1]\n",
    "                j -= 1\n",
    "            i += 1\n",
    "\n",
    "        return ans\n"
   ],
   "metadata": {
    "collapsed": false,
    "pycharm": {
     "name": "#%%\n"
    }
   }
  },
  {
   "cell_type": "code",
   "execution_count": null,
   "outputs": [],
   "source": [],
   "metadata": {
    "collapsed": false,
    "pycharm": {
     "name": "#%%\n"
    }
   }
  },
  {
   "cell_type": "code",
   "execution_count": null,
   "outputs": [],
   "source": [],
   "metadata": {
    "collapsed": false,
    "pycharm": {
     "name": "#%%\n"
    }
   }
  }
 ],
 "metadata": {
  "kernelspec": {
   "display_name": "Python 3",
   "language": "python",
   "name": "python3"
  },
  "language_info": {
   "codemirror_mode": {
    "name": "ipython",
    "version": 2
   },
   "file_extension": ".py",
   "mimetype": "text/x-python",
   "name": "python",
   "nbconvert_exporter": "python",
   "pygments_lexer": "ipython2",
   "version": "2.7.6"
  }
 },
 "nbformat": 4,
 "nbformat_minor": 0
}