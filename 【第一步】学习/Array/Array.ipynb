{
 "cells": [
  {
   "cell_type": "code",
   "execution_count": 4,
   "outputs": [
    {
     "ename": "ModuleNotFoundError",
     "evalue": "No module named 'list'",
     "output_type": "error",
     "traceback": [
      "\u001B[0;31m---------------------------------------------------------------------------\u001B[0m",
      "\u001B[0;31mModuleNotFoundError\u001B[0m                       Traceback (most recent call last)",
      "Input \u001B[0;32mIn [4]\u001B[0m, in \u001B[0;36m<cell line: 1>\u001B[0;34m()\u001B[0m\n\u001B[0;32m----> 1\u001B[0m \u001B[38;5;28;01mimport\u001B[39;00m \u001B[38;5;21;01mlist\u001B[39;00m\n",
      "\u001B[0;31mModuleNotFoundError\u001B[0m: No module named 'list'"
     ]
    }
   ],
   "source": [],
   "metadata": {
    "collapsed": false,
    "pycharm": {
     "name": "#%%\n"
    }
   }
  },
  {
   "cell_type": "markdown",
   "source": [
    "### 27. Remove Element\n",
    "https://leetcode.com/problems/remove-element/\n",
    "\n",
    "Highlight: **in place**，we could not new an array."
   ],
   "metadata": {
    "collapsed": false,
    "pycharm": {
     "name": "#%% md\n"
    }
   }
  },
  {
   "cell_type": "code",
   "execution_count": 5,
   "outputs": [],
   "source": [
    "class Solution:\n",
    "    def removeElement(self, nums, val) -> int:\n",
    "        ans = 0\n",
    "        # distinguish i and num[i]\n",
    "        for i in nums:\n",
    "            if (i != val):\n",
    "                nums[ans] = i\n",
    "                ans += 1\n",
    "        return ans\n"
   ],
   "metadata": {
    "collapsed": false,
    "pycharm": {
     "name": "#%%\n"
    }
   }
  },
  {
   "cell_type": "markdown",
   "source": [
    "### 26. Remove Duplicates from Sorted Array\n",
    "https://leetcode.com/problems/remove-duplicates-from-sorted-array/\n",
    "HL:\n",
    "   - in-place, save the space\n",
    "   - non-decreasing order\n",
    "other: write by myself, but thinking is ambiguous"
   ],
   "metadata": {
    "collapsed": false,
    "pycharm": {
     "name": "#%% md\n"
    }
   }
  },
  {
   "cell_type": "code",
   "execution_count": 7,
   "outputs": [],
   "source": [
    "class Solution:\n",
    "    def removeDuplicates(self, nums) -> int:\n",
    "        ans = 0\n",
    "        i = 1\n",
    "        while i < len(nums):\n",
    "            if nums[i] > nums[i-1]:\n",
    "                ans += 1\n",
    "                nums[ans] = nums[i]\n",
    "            i += 1\n",
    "\n",
    "        ans += 1\n",
    "        return ans\n"
   ],
   "metadata": {
    "collapsed": false,
    "pycharm": {
     "name": "#%%\n"
    }
   }
  },
  {
   "cell_type": "markdown",
   "source": [
    "## 80. Remove Duplicates from Sorted Array II\n",
    "18:05 - 18:28 = 23 mins\n",
    "HL:non-decreasing order; in-place;at most twice\n",
    "其他：\n",
    "    - 自己写的，语法混淆了 ｜ 和 or，导致简单运算不符合预期。\n",
    "    - 有点沉不下心，总想按答案索骥，而不是创造答案，心态不对。\n"
   ],
   "metadata": {
    "collapsed": false,
    "pycharm": {
     "name": "#%% md\n"
    }
   }
  },
  {
   "cell_type": "code",
   "execution_count": 9,
   "outputs": [],
   "source": [
    "class Solution:\n",
    "    def removeDuplicates(self, nums) -> int:\n",
    "        if len(nums) <= 2: return len(nums)\n",
    "        ans = 0\n",
    "        b = 1\n",
    "        index = 2\n",
    "        while index < len(nums):\n",
    "            if nums[index] > nums[b] or nums[index] != nums[ans]:\n",
    "                b += 1\n",
    "                nums[b] = nums [index]\n",
    "                ans += 1\n",
    "            index += 1\n",
    "        b += 1\n",
    "        return b\n"
   ],
   "metadata": {
    "collapsed": false,
    "pycharm": {
     "name": "#%%\n"
    }
   }
  },
  {
   "cell_type": "markdown",
   "source": [
    "### 66. Plus One\n",
    "https://leetcode.com/problems/plus-one/\n",
    "18:32\n",
    "HL:\n",
    "思路：拼成一串数字加一，然后展开成一个array"
   ],
   "metadata": {
    "collapsed": false,
    "pycharm": {
     "name": "#%% md\n"
    }
   }
  }
 ],
 "metadata": {
  "kernelspec": {
   "display_name": "Python 3",
   "language": "python",
   "name": "python3"
  },
  "language_info": {
   "codemirror_mode": {
    "name": "ipython",
    "version": 2
   },
   "file_extension": ".py",
   "mimetype": "text/x-python",
   "name": "python",
   "nbconvert_exporter": "python",
   "pygments_lexer": "ipython2",
   "version": "2.7.6"
  }
 },
 "nbformat": 4,
 "nbformat_minor": 0
}